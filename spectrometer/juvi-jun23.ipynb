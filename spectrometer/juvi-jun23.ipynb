{
 "cells": [
  {
   "cell_type": "code",
   "execution_count": 1,
   "id": "aefcfe9e-6e2d-444d-808f-e1883e87df66",
   "metadata": {
    "tags": []
   },
   "outputs": [],
   "source": [
    "import numpy as np\n",
    "import matplotlib.pyplot as plt\n",
    "import os\n",
    "import refspec"
   ]
  },
  {
   "cell_type": "code",
   "execution_count": 2,
   "id": "47e4987c-7673-4a32-bf7d-6a6e240a1ff2",
   "metadata": {
    "tags": []
   },
   "outputs": [
    {
     "name": "stdout",
     "output_type": "stream",
     "text": [
      "/home/juvi/notebooks/spectrometer/adc_waveform.bin\n"
     ]
    }
   ],
   "source": [
    "from pathlib import Path\n",
    "#Make sure your data file, adv_waveform.bin, is in the directory you're currently in.\n",
    "file = 'adc_waveform.bin'\n",
    "path = os.path.abspath(file)\n",
    "print(path)\n",
    "filename=path\n",
    "cfg = refspec.SpecConfig()\n",
    "cfg.Ntaps           = 8\n",
    "cfg.Nchannels       = 1\n",
    "cfg.Average1Size    = 64\n",
    "cfg.Average2Size    = 700\n",
    "fundamental         = cfg.fundamental_frequency()\n",
    "blocks              = cfg.AverageSize()+2*cfg.Ntaps"
   ]
  },
  {
   "cell_type": "code",
   "execution_count": null,
   "id": "8ac1d5b6-a561-41fa-86df-584485fc5d2b",
   "metadata": {
    "scrolled": true,
    "tags": []
   },
   "outputs": [],
   "source": [
    "signal = refspec.FileStreamSource(cfg.Nfft,cfg.Nchannels,filename)\n",
    "output = refspec.SpecOutput(cfg)\n",
    "spectrometer = refspec.RefSpectrometer(signal, cfg)\n",
    "spectrometer.run(output)\n",
    "f = fundamental*np.arange(cfg.Nbins())/1e6\n",
    "Pk = np.array([output.get_avg_pspec(0, i) for i in range(0, cfg.Nbins())])"
   ]
  },
  {
   "cell_type": "code",
   "execution_count": null,
   "id": "3a9cb228-8efe-41d8-8e78-2641ad63049b",
   "metadata": {
    "tags": []
   },
   "outputs": [],
   "source": [
    "plt.figure(figsize=(10,5))\n",
    "plt.plot(f,Pk,label='input')\n",
    "plt.xlabel('frequency [MHz]')\n",
    "plt.ylabel('power')\n",
    "plt.loglog()\n",
    "plt.legend()"
   ]
  },
  {
   "cell_type": "code",
   "execution_count": null,
   "id": "2625874f-c787-4221-b0eb-3c607db9d4cc",
   "metadata": {
    "tags": []
   },
   "outputs": [],
   "source": [
    "data=np.fromfile(filename,dtype=np.int16)\n",
    "print(len(data)/102.4e6)"
   ]
  },
  {
   "cell_type": "code",
   "execution_count": null,
   "id": "2b9f02a2-c52f-4d83-8413-0fb2618bd9fd",
   "metadata": {
    "tags": []
   },
   "outputs": [],
   "source": [
    "plt.plot(data[:600])"
   ]
  },
  {
   "cell_type": "code",
   "execution_count": null,
   "id": "91ca8b1e-3863-489c-9bad-bfe07ba167a1",
   "metadata": {
    "tags": []
   },
   "outputs": [],
   "source": [
    "open('test.bin','wb').write(data.tobytes())\n",
    "data2=np.fromfile('test.bin',dtype=np.int16)"
   ]
  },
  {
   "cell_type": "code",
   "execution_count": null,
   "id": "615cf731-b811-4992-80b6-a05acb52cf7b",
   "metadata": {
    "tags": []
   },
   "outputs": [],
   "source": [
    "np.all(data==data2)"
   ]
  },
  {
   "cell_type": "code",
   "execution_count": null,
   "id": "f1d869c7-5944-4100-a4ff-f14c005340bb",
   "metadata": {},
   "outputs": [],
   "source": []
  }
 ],
 "metadata": {
  "kernelspec": {
   "display_name": "Python 3 (ipykernel)",
   "language": "python",
   "name": "python3"
  },
  "language_info": {
   "codemirror_mode": {
    "name": "ipython",
    "version": 3
   },
   "file_extension": ".py",
   "mimetype": "text/x-python",
   "name": "python",
   "nbconvert_exporter": "python",
   "pygments_lexer": "ipython3",
   "version": "3.10.1"
  }
 },
 "nbformat": 4,
 "nbformat_minor": 5
}

{
 "cells": [
  {
   "cell_type": "code",
   "execution_count": null,
   "id": "116c22ce-b9ef-401a-9894-10e5602c1332",
   "metadata": {},
   "outputs": [],
   "source": [
    "import numpy as np\n",
    "import matplotlib.pyplot as plt\n",
    "import os\n",
    "import refspec\n",
    "from pathlib import Path\n",
    "import gc\n",
    "import random"
   ]
  },
  {
   "cell_type": "code",
   "execution_count": null,
   "id": "1695e01c-97cc-470b-95c3-846399e71212",
   "metadata": {
    "scrolled": true
   },
   "outputs": [],
   "source": [
    "# Generate x% unique random numbers within a range, inserts random 'glitches'\n",
    "# Plots & compares all power spectra produced to original power spectrum\n",
    "# All you need to do is put the file name of your data into file\n",
    "# Make sure your data file is in the directory you're currently in\n",
    "\n",
    "file = 'adc_waveform_wPF.bin'\n",
    "path = os.path.abspath(file)\n",
    "print(path)\n",
    "filename=path\n",
    "data_raw=np.fromfile(filename,dtype=np.int16)"
   ]
  },
  {
   "cell_type": "code",
   "execution_count": null,
   "id": "2d1283c5-e935-446d-ae87-661feef3f70e",
   "metadata": {},
   "outputs": [],
   "source": [
    "# Set to 3 hit lengths by default, represented by g\n",
    "# Set to 4 percentages of number of data points changed to 0 by default, represented by fraction\n",
    "\n",
    "fraction = [0.01,0.1,0.2,0.3]\n",
    "glitch_len_max = [1,10,100]\n",
    "files = [file]\n",
    "percentages = []\n",
    "for g in glitch_len_max:\n",
    "    print (\"Doing length:\" ,g)\n",
    "    for f in fraction:\n",
    "        print (\"Doing fraction:\",f)\n",
    "        data = np.copy(data_raw)\n",
    "        for ndx_s in np.random.randint(0,len(data),int(len(data)*f/(g/2))):\n",
    "            ndx_e = ndx_s + np.random.randint(0,g+1)\n",
    "            data[ndx_s:ndx_e]=0\n",
    "        filename = f\"{f}_{g}_{file}\"\n",
    "        files.append(filename)\n",
    "        open('{}'.format(filename),'wb').write(data.tobytes())\n",
    "        print(\"saving '{}'\".format(filename))\n",
    "        if g == glitch_len_max[0]:\n",
    "            percent = (data==0).sum()/len(data)\n",
    "            percentages.append(percent)"
   ]
  },
  {
   "cell_type": "code",
   "execution_count": null,
   "id": "660c26c0-5ef4-4d72-8d6e-ccb3db6f60bf",
   "metadata": {},
   "outputs": [],
   "source": [
    "#notch is turned off by default in refspec, uncomment the cfg.notch line to turn notch on\n",
    "print(files)\n",
    "f = []\n",
    "pk = []\n",
    "for x in range(len(files)):\n",
    "    path = os.path.abspath(files[x])\n",
    "    print(path)\n",
    "    filename = path\n",
    "    cfg = refspec.SpecConfig()\n",
    "    cfg.Ntaps           = 8\n",
    "    cfg.Nchannels       = 1\n",
    "    cfg.Average1Size    = 64\n",
    "    cfg.Average2Size    = 700\n",
    "    #cfg.notch = True \n",
    "    fundamental         = cfg.fundamental_frequency()\n",
    "    blocks              = cfg.AverageSize()+2*cfg.Ntaps\n",
    "    signal = refspec.FileStreamSource(cfg.Nfft,cfg.Nchannels,filename)\n",
    "    output = refspec.SpecOutput(cfg)\n",
    "    spectrometer = refspec.RefSpectrometer(signal, cfg)\n",
    "    spectrometer.run(output)\n",
    "    f.append(fundamental*np.arange(cfg.Nbins())/1e6)\n",
    "    pk.append(np.array([output.get_avg_pspec(0, i) for i in range(0, cfg.Nbins())]))"
   ]
  },
  {
   "cell_type": "code",
   "execution_count": null,
   "id": "f8c1cb54-2750-4637-b79c-5c3342fee7e5",
   "metadata": {},
   "outputs": [],
   "source": [
    "# indexes: 0 = Original Waveform, 1-4 = hl1, 5-8 = hl10, 9-12 = hl100\n",
    "\n",
    "from matplotlib.lines import Line2D\n",
    "true = percentages[0]*100\n",
    "true2 = percentages[1]*100\n",
    "true3 = percentages[2]*100\n",
    "true4 = percentages[3]*100\n",
    "plt.figure(figsize=(10,5))\n",
    "plt.plot(f[0], pk[0], 'k', linestyle = \"-\")\n",
    "j = 1\n",
    "plt.plot(f[j],pk[j], 'b', linestyle = \"-\")\n",
    "plt.plot(f[j+1],pk[j+1], 'g', linestyle = \"-\")\n",
    "plt.plot(f[j+2],pk[j+2], 'y', linestyle = \"-\")\n",
    "plt.plot(f[j+3],pk[j+3], 'r', linestyle = \"-\")\n",
    "j += 4\n",
    "plt.plot(f[j],pk[j], 'b', linestyle = \"--\")\n",
    "plt.plot(f[j+1],pk[j+1], 'g', linestyle = \"--\")\n",
    "plt.plot(f[j+2],pk[j+2], 'y', linestyle = \"--\")\n",
    "plt.plot(f[j+3],pk[j+3], 'r', linestyle = \"--\")\n",
    "j += 4\n",
    "plt.plot(f[j],pk[j], 'b', linestyle = \"-.\")\n",
    "plt.plot(f[j+1],pk[j+1], 'g', linestyle = \"-.\")\n",
    "plt.plot(f[j+2],pk[j+2], 'y', linestyle = \"-.\")\n",
    "plt.plot(f[j+3],pk[j+3], 'r', linestyle = \"-.\")\n",
    "plt.xlabel('frequency [MHz]')\n",
    "plt.title('Power Spectrum w/Various Corruptions')\n",
    "plt.ylabel('power')\n",
    "plt.loglog()\n",
    "legend_elements = [Line2D([0], [0], color='k', lw=4, label='No Corruption'),\n",
    "                   Line2D([0], [0], color='r', lw=4, label='{:.3f}% Corrupt'.format(true4)),\n",
    "                   Line2D([0], [0], color='y', lw=4, label='{:.3f}% Corrupt'.format(true3)),\n",
    "                   Line2D([0], [0], color='g', lw=4, label='{:.3f}% Corrupt'.format(true2)),\n",
    "                   Line2D([0], [0], color='b', lw=4, label='{:.3f}% Corrupt'.format(true)),\n",
    "                   Line2D([0], [0], color='k', linestyle = \"-\", lw=1, label='Hit Length 1'),\n",
    "                   Line2D([0], [0], color='k', linestyle = \"--\", lw=1, label='Hit Length 10'),\n",
    "                   Line2D([0], [0], color='k', linestyle = \"-.\", lw=1, label='Hit Length 100')]\n",
    "plt.legend(handles=legend_elements)\n",
    "#plt.savefig('spectrum_comparison.png')\n",
    "plt.show()"
   ]
  }
 ],
 "metadata": {
  "kernelspec": {
   "display_name": "Python 3 (ipykernel)",
   "language": "python",
   "name": "python3"
  },
  "language_info": {
   "codemirror_mode": {
    "name": "ipython",
    "version": 3
   },
   "file_extension": ".py",
   "mimetype": "text/x-python",
   "name": "python",
   "nbconvert_exporter": "python",
   "pygments_lexer": "ipython3",
   "version": "3.10.1"
  }
 },
 "nbformat": 4,
 "nbformat_minor": 5
}

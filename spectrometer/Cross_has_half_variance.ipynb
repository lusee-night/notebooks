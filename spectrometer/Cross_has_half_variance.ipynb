{
 "cells": [
  {
   "cell_type": "code",
   "execution_count": 1,
   "id": "45e7fdf8",
   "metadata": {},
   "outputs": [],
   "source": [
    "import numpy.random"
   ]
  },
  {
   "cell_type": "code",
   "execution_count": 2,
   "id": "0159f2ac",
   "metadata": {},
   "outputs": [],
   "source": [
    "N=10000\n",
    "M=1000\n",
    "l1,l2=[],[]\n",
    "for i in range(M):\n",
    "    a,b,c,d = np.random.normal(0,1/np.sqrt(2),(4,N))\n",
    "    a = a+1j*b\n",
    "    b = c+1j*d\n",
    "    l1.append((a*np.conj(a)).mean())\n",
    "    l2.append((a*np.conj(b)).mean())\n",
    "l1 = np.real(np.array(l1))\n",
    "l2 = np.array(l2)\n",
    "l2r = np.real(l2)\n",
    "l2i = np.imag(l2)"
   ]
  },
  {
   "cell_type": "code",
   "execution_count": 3,
   "id": "1381224e",
   "metadata": {},
   "outputs": [
    {
     "data": {
      "text/plain": [
       "(0.9999288611997771, 1.0090081976283014)"
      ]
     },
     "execution_count": 3,
     "metadata": {},
     "output_type": "execute_result"
    }
   ],
   "source": [
    "l1.mean()/1, l1.var()/1e-4"
   ]
  },
  {
   "cell_type": "code",
   "execution_count": 4,
   "id": "c1bb1271",
   "metadata": {},
   "outputs": [
    {
     "data": {
      "text/plain": [
       "(-0.0001390354042752632, 0.4685339173269792, 0.5013431614690673)"
      ]
     },
     "execution_count": 4,
     "metadata": {},
     "output_type": "execute_result"
    }
   ],
   "source": [
    "l2r.mean(), l2r.var()/1e-4, l2i.var()/1e-4"
   ]
  },
  {
   "cell_type": "code",
   "execution_count": null,
   "id": "2f2ab32d",
   "metadata": {},
   "outputs": [],
   "source": []
  }
 ],
 "metadata": {
  "kernelspec": {
   "display_name": "Python 3 (ipykernel)",
   "language": "python",
   "name": "python3"
  },
  "language_info": {
   "codemirror_mode": {
    "name": "ipython",
    "version": 3
   },
   "file_extension": ".py",
   "mimetype": "text/x-python",
   "name": "python",
   "nbconvert_exporter": "python",
   "pygments_lexer": "ipython3",
   "version": "3.10.1"
  }
 },
 "nbformat": 4,
 "nbformat_minor": 5
}

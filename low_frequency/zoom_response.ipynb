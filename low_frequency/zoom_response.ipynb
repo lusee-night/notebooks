{
 "cells": [
  {
   "cell_type": "code",
   "execution_count": 1,
   "metadata": {},
   "outputs": [],
   "source": [
    "%load_ext autoreload\n",
    "%autoreload 2\n",
    "import lusee\n",
    "import numpy as np\n",
    "\n",
    "import matplotlib\n",
    "import matplotlib.pyplot as plt\n",
    "matplotlib.rcParams['figure.figsize'] = [5, 3.5]\n",
    "matplotlib.rcParams['figure.dpi'] = 100\n",
    "from scipy.ndimage import gaussian_filter\n",
    "from scipy.interpolate import interp1d\n",
    "from scipy.integrate import simpson\n",
    "import refspec\n",
    "import os\n",
    "import tqdm.notebook as tqdm"
   ]
  },
  {
   "cell_type": "code",
   "execution_count": 2,
   "metadata": {},
   "outputs": [
    {
     "data": {
      "application/vnd.jupyter.widget-view+json": {
       "model_id": "a5e03364417041bf8bb309cc4b9f02db",
       "version_major": 2,
       "version_minor": 0
      },
      "text/plain": [
       "  0%|          | 0/2000 [00:00<?, ?it/s]"
      ]
     },
     "metadata": {},
     "output_type": "display_data"
    }
   ],
   "source": [
    "cfg = refspec.SpecConfig()\n",
    "cfghelp = refspec.SpecConfigHelper(cfg)\n",
    "sampling_rate = cfg.sampling_rate\n",
    "block_size = cfg.Nfft ## irrelevant here\n",
    "Nsec = 0.1\n",
    "Nsamples = int(Nsec*sampling_rate)\n",
    "Nblocks_gen = Nsamples//block_size+2*cfg.Ntaps\n",
    "Nchannels = 1\n",
    "\n",
    "cfg.zoomin_st    = 10\n",
    "cfg.zoomin_en    = 11; # 500 kHz times 4 / 100kHz\n",
    "Nzoom = 64\n",
    "Nzoomtaps = 1\n",
    "cfghelp.set_zoom(Nzoom,Nzoomtaps,None)\n",
    "\n",
    "cfg.Nchannels       = 1\n",
    "cfg.Average1Size    = 128\n",
    "cfg.Average2Size    = 1 \n",
    "assert(cfg.Average2Size>0)\n",
    "fundamental         = cfg.fundamental_frequency()\n",
    "outf = np.linspace (-50,50,2000)\n",
    "for Ntaps in [4,8]:\n",
    "    out = []\n",
    "    outz = []\n",
    "    cfg.Ntaps        =  Ntaps\n",
    "    for df in tqdm.tqdm(outf):\n",
    "        tone = 250+df\n",
    "        source = refspec.SignalGenerator(block_size, Nchannels, Nblocks_gen, tone*1e3, sampling_rate, 100.,0.)\n",
    "        output = refspec.SpecOutput(cfg)\n",
    "        spectrometer = refspec.RefSpectrometer(source, cfg)\n",
    "        output = refspec.SpecOutput(cfg)\n",
    "        spectrometer.run(output)\n",
    "        out.append(output.get_avg_pspec(0,10))\n",
    "        outz.append(np.array(output.get_avg_pspec_zoom(0)))\n",
    "    out = np.array(out)\n",
    "    outz = np.array(outz)\n",
    "    np.savetxt(f'zoom_response_{cfg.Ntaps}tap.txt',np.vstack([[outf],[out],outz.T]).T)"
   ]
  }
 ],
 "metadata": {
  "kernelspec": {
   "display_name": "Python 3 (ipykernel)",
   "language": "python",
   "name": "python3"
  },
  "language_info": {
   "codemirror_mode": {
    "name": "ipython",
    "version": 3
   },
   "file_extension": ".py",
   "mimetype": "text/x-python",
   "name": "python",
   "nbconvert_exporter": "python",
   "pygments_lexer": "ipython3",
   "version": "3.10.1"
  },
  "orig_nbformat": 4
 },
 "nbformat": 4,
 "nbformat_minor": 2
}

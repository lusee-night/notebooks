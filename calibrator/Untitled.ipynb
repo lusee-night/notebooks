{
 "cells": [
  {
   "cell_type": "code",
   "execution_count": 1,
   "id": "0621264d-bd86-44e8-9576-e21fd0265447",
   "metadata": {},
   "outputs": [],
   "source": [
    "import numpy as np"
   ]
  },
  {
   "cell_type": "code",
   "execution_count": 17,
   "id": "225c4f7a-c714-4b77-a591-e6424563f873",
   "metadata": {},
   "outputs": [],
   "source": [
    "def comb_collisions (Nc=875, dftol = 0.025/50):\n",
    "    df = 1.024e8/Nc/1e6\n",
    "    Ncol=0\n",
    "    cols=[]\n",
    "    for i in range (1,501):\n",
    "        f_pf = 0.1*i\n",
    "        f_c = int(f_pf/df+0.5)*df\n",
    "        if np.abs(f_c-f_pf)<dftol:\n",
    "            Ncol+=1\n",
    "            cols.append(f_pf)\n",
    "            \n",
    "    return Ncol,cols\n",
    "        "
   ]
  },
  {
   "cell_type": "code",
   "execution_count": 33,
   "id": "a6c8e221-bf0c-4dcb-b879-1c2ed0f20992",
   "metadata": {},
   "outputs": [
    {
     "name": "stdout",
     "output_type": "stream",
     "text": [
      "398\n"
     ]
    },
    {
     "data": {
      "image/png": "[encoded data removed]",
      "text/plain": [
       "<Figure size 432x288 with 1 Axes>"
      ]
     },
     "metadata": {
      "needs_background": "light"
     },
     "output_type": "display_data"
    }
   ],
   "source": [
    "for Nc in range(100,2000):\n",
    "    N,_=comb_collisions(Nc)\n",
    "    if N==0:\n",
    "        maxzero=Nc\n",
    "    plt.plot([Nc],[N],'rx')\n",
    "plt.ylim(0,10)\n",
    "print(maxzero)"
   ]
  },
  {
   "cell_type": "code",
   "execution_count": null,
   "id": "aad06dca-1d5f-4dec-b630-c26c99c3c15d",
   "metadata": {},
   "outputs": [],
   "source": []
  },
  {
   "cell_type": "code",
   "execution_count": null,
   "id": "7cb3030d-bade-459d-a759-bfd791a68323",
   "metadata": {},
   "outputs": [],
   "source": []
  }
 ],
 "metadata": {
  "kernelspec": {
   "display_name": "Python 3 (ipykernel)",
   "language": "python",
   "name": "python3"
  },
  "language_info": {
   "codemirror_mode": {
    "name": "ipython",
    "version": 3
   },
   "file_extension": ".py",
   "mimetype": "text/x-python",
   "name": "python",
   "nbconvert_exporter": "python",
   "pygments_lexer": "ipython3",
   "version": "3.10.1"
  }
 },
 "nbformat": 4,
 "nbformat_minor": 5
}

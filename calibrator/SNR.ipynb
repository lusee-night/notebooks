{
 "cells": [
  {
   "cell_type": "code",
   "execution_count": 128,
   "metadata": {},
   "outputs": [],
   "source": [
    "import numpy as np\n",
    "N=100\n",
    "kar = np.arange (N)*2"
   ]
  },
  {
   "cell_type": "code",
   "execution_count": 137,
   "metadata": {},
   "outputs": [],
   "source": [
    "def generate_data (sig = 1e-3, A=0.1, phi_ofs=np.random.uniform(0,2*np.pi)):\n",
    "    n = np.random.normal (0, 1/np.sqrt(2),N)+1j*np.random.normal(0,1/np.sqrt(2),N)\n",
    "    s = A*np.exp(1j*(phi_ofs+kar*sig))\n",
    "    return s+n\n",
    "\n",
    "def estimate_phi (data):\n",
    "    sum0 = np.sum(data)\n",
    "    sum1 = np.sum(data*kar*1j)\n",
    "    sum2 = np.sum(-data*kar**2)\n",
    "    FD = np.real(sum0*np.conj(sum1))\n",
    "    SD = np.real(sum2*np.conj(sum0)+sum1*np.conj(sum1))\n",
    "    return FD/SD\n",
    "\n",
    "def get_error (sig, A, phi_ofs=np.random.uniform(0,2*np.pi), Ngo=100000):\n",
    "    res = [estimate_phi(generate_data(sig, A, sig)) for i in range(Ngo)]\n",
    "    res = np.array(res)\n",
    "    mean = res.mean()\n",
    "    std = np.sqrt((res**2).mean()-sig**2)\n",
    "    return mean, std"
   ]
  },
  {
   "cell_type": "code",
   "execution_count": 146,
   "metadata": {},
   "outputs": [
    {
     "data": {
      "text/plain": [
       "(0.0010070129461629306, 0.00027583660556021027)"
      ]
     },
     "execution_count": 146,
     "metadata": {},
     "output_type": "execute_result"
    }
   ],
   "source": [
    "get_error(1e-3, 5.0,0, 100000)"
   ]
  },
  {
   "cell_type": "code",
   "execution_count": null,
   "metadata": {},
   "outputs": [],
   "source": []
  },
  {
   "cell_type": "code",
   "execution_count": null,
   "metadata": {},
   "outputs": [],
   "source": []
  }
 ],
 "metadata": {
  "kernelspec": {
   "display_name": "Python 3",
   "language": "python",
   "name": "python3"
  },
  "language_info": {
   "codemirror_mode": {
    "name": "ipython",
    "version": 3
   },
   "file_extension": ".py",
   "mimetype": "text/x-python",
   "name": "python",
   "nbconvert_exporter": "python",
   "pygments_lexer": "ipython3",
   "version": "3.11.7"
  }
 },
 "nbformat": 4,
 "nbformat_minor": 2
}

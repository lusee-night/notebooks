{
 "cells": [
  {
   "cell_type": "code",
   "execution_count": 17,
   "metadata": {},
   "outputs": [],
   "source": [
    "import numpy as np\n",
    "N=100\n",
    "kar = np.arange(N)*2"
   ]
  },
  {
   "cell_type": "code",
   "execution_count": 38,
   "metadata": {},
   "outputs": [],
   "source": [
    "def generate_data (sig = 1e-3, A=0.1, phi_ofs=np.random.uniform(0,2*np.pi)):\n",
    "    n = np.random.normal (0, 1/np.sqrt(2),N)+1j*np.random.normal(0,1/np.sqrt(2),N)\n",
    "    s = A*np.exp(1j*(phi_ofs+kar*sig))\n",
    "    return s+n\n",
    "\n",
    "def estimate_phi (data,res=False,fds=False,array=False):\n",
    "    sum0 = np.sum(data)\n",
    "    sum1 = data*kar*1j\n",
    "    sum2 = np.sum(-data*kar**2)    \n",
    "    fd_arr = np.real(sum1)\n",
    "    \n",
    "    sum1 = np.sum(sum1)\n",
    "    FD = np.real(sum0*np.conj(sum1))\n",
    "    SD = np.real(sum2*np.conj(sum0)+sum1*np.conj(sum1))\n",
    "    \n",
    "    if fds:\n",
    "        return FD\n",
    "    elif res:\n",
    "        return FD/SD\n",
    "    elif array:\n",
    "        return fd_arr\n",
    "    else:\n",
    "        return SD\n",
    "\n",
    "\n",
    "\n",
    "def get_error (sig, A, phi_ofs=np.random.uniform(0,2*np.pi), Ngo=100000):\n",
    "    res = [estimate_phi(generate_data(sig, A),res=True) for i in range(Ngo)]\n",
    "    res = np.array(res)\n",
    "    mean = res.mean()\n",
    "    std = np.sqrt((res**2).mean()-sig**2)\n",
    "    pred = var_phi(sig, A, Ngo)\n",
    "    \n",
    "    return mean, std, pred"
   ]
  },
  {
   "cell_type": "code",
   "execution_count": 39,
   "metadata": {},
   "outputs": [],
   "source": [
    "def var_phi(sig, A, Ngo):\n",
    "    fds = [estimate_phi(generate_data(sig, A),fds=True) for i in range(Ngo)]\n",
    "    fds = np.array(fds)\n",
    "    var_fd = np.var(fds)\n",
    "    sd = estimate_phi(generate_data(sig, A))\n",
    "    print(sd)\n",
    "    print(var_fd)\n",
    "    \n",
    "    return var_fd/(sd**2)"
   ]
  },
  {
   "cell_type": "code",
   "execution_count": 40,
   "metadata": {},
   "outputs": [
    {
     "name": "stdout",
     "output_type": "stream",
     "text": [
      "-844908474.0293612\n",
      "41648917261.94592\n"
     ]
    },
    {
     "data": {
      "text/plain": [
       "(0.0010067865534302007, 0.00027587674652768135, 5.834241253855938e-08)"
      ]
     },
     "execution_count": 40,
     "metadata": {},
     "output_type": "execute_result"
    }
   ],
   "source": [
    "get_error(1e-3, 5.0,0, 100000)"
   ]
  },
  {
   "cell_type": "code",
   "execution_count": 41,
   "metadata": {},
   "outputs": [],
   "source": [
    "def best_drift(Ngo,sig,A):\n",
    "    num = []\n",
    "    denom = []\n",
    "    for i in range(Ngo):\n",
    "        data = generate_data(sig, A)\n",
    "        fd = estimate_phi(data,array=True)\n",
    "        sd = estimate_phi(data)  \n",
    "        phi = estimate_phi(data,res=True)\n",
    "        num.append(phi/(np.var(fd)/(sd**2)))\n",
    "        denom.append(1/(np.var(fd)/(sd**2)))\n",
    "        \n",
    "    weight = np.sum(num)\n",
    "    scale = np.sum(denom)\n",
    "    return weight/scale"
   ]
  },
  {
   "cell_type": "code",
   "execution_count": 42,
   "metadata": {},
   "outputs": [
    {
     "data": {
      "text/plain": [
       "0.0010160110688435702"
      ]
     },
     "execution_count": 42,
     "metadata": {},
     "output_type": "execute_result"
    }
   ],
   "source": [
    "best_drift(100000,1e-3,5.0)"
   ]
  },
  {
   "cell_type": "code",
   "execution_count": null,
   "metadata": {},
   "outputs": [],
   "source": []
  }
 ],
 "metadata": {
  "kernelspec": {
   "display_name": "Python 3 (ipykernel)",
   "language": "python",
   "name": "python3"
  },
  "language_info": {
   "codemirror_mode": {
    "name": "ipython",
    "version": 3
   },
   "file_extension": ".py",
   "mimetype": "text/x-python",
   "name": "python",
   "nbconvert_exporter": "python",
   "pygments_lexer": "ipython3",
   "version": "3.11.9"
  }
 },
 "nbformat": 4,
 "nbformat_minor": 4
}

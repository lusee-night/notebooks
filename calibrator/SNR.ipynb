{
 "cells": [
  {
   "cell_type": "code",
   "execution_count": 5,
   "metadata": {},
   "outputs": [],
   "source": [
    "import numpy as np\n",
    "N=100\n",
    "kar = np.arange(N)*2"
   ]
  },
  {
   "cell_type": "code",
   "execution_count": 20,
   "metadata": {},
   "outputs": [],
   "source": [
    "def generate_data (sig = 1e-3, A=0.1, phi_ofs=np.random.uniform(0,2*np.pi)):\n",
    "    n = np.random.normal (0, 1/np.sqrt(2),N)+1j*np.random.normal(0,1/np.sqrt(2),N)\n",
    "    s = A*np.exp(1j*(phi_ofs+kar*sig))\n",
    "    return s+n\n",
    "\n",
    "def estimate_phi (data,res=False,fds=False):\n",
    "    sum0 = np.sum(data)\n",
    "    sum1 = np.sum(data*kar*1j)\n",
    "    sum2 = np.sum(-data*kar**2)    \n",
    "    FD = np.real(sum0*np.conj(sum1))\n",
    "    SD = np.real(sum2*np.conj(sum0)+sum1*np.conj(sum1))\n",
    "\n",
    "    if res:\n",
    "        return FD/SD\n",
    "    elif fds:\n",
    "        return FD\n",
    "    else:\n",
    "        return SD\n",
    "\n",
    "def get_error (sig, A, phi_ofs=np.random.uniform(0,2*np.pi), Ngo=100000):\n",
    "    res = [estimate_phi(generate_data(sig, A),res=True) for i in range(Ngo)]\n",
    "    res = np.array(res)\n",
    "    mean = res.mean()\n",
    "    std = np.sqrt((res**2).mean()-sig**2)\n",
    "    pred = var_phi(sig, A, Ngo)\n",
    "    \n",
    "    return mean, std, pred"
   ]
  },
  {
   "cell_type": "code",
   "execution_count": 25,
   "metadata": {},
   "outputs": [],
   "source": [
    "def var_phi(sig, A, Ngo):\n",
    "    fds = [estimate_phi(generate_data(sig, A),fds=True) for i in range(Ngo)]\n",
    "    fds = np.array(fds)\n",
    "    var_fd = np.var(fds)\n",
    "    sd = estimate_phi(generate_data(sig, A))\n",
    "    print(sd)\n",
    "    print(var_fd)\n",
    "    \n",
    "    return var_fd/(sd**2)"
   ]
  },
  {
   "cell_type": "code",
   "execution_count": 30,
   "metadata": {},
   "outputs": [
    {
     "name": "stdout",
     "output_type": "stream",
     "text": [
      "-799765460.8726869\n",
      "41885834503.51218\n"
     ]
    },
    {
     "data": {
      "text/plain": [
       "(0.0010070393826193476, 0.00027706057677768755, 6.548500777467866e-08)"
      ]
     },
     "execution_count": 30,
     "metadata": {},
     "output_type": "execute_result"
    }
   ],
   "source": [
    "get_error(1e-3, 5.0,0, 100000)"
   ]
  },
  {
   "cell_type": "code",
   "execution_count": null,
   "metadata": {},
   "outputs": [],
   "source": []
  }
 ],
 "metadata": {
  "kernelspec": {
   "display_name": "Python 3 (ipykernel)",
   "language": "python",
   "name": "python3"
  },
  "language_info": {
   "codemirror_mode": {
    "name": "ipython",
    "version": 3
   },
   "file_extension": ".py",
   "mimetype": "text/x-python",
   "name": "python",
   "nbconvert_exporter": "python",
   "pygments_lexer": "ipython3",
   "version": "3.11.9"
  }
 },
 "nbformat": 4,
 "nbformat_minor": 4
}

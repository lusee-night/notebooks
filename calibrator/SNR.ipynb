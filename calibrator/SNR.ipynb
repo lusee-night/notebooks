{
 "cells": [
  {
   "cell_type": "code",
   "execution_count": 1,
   "metadata": {},
   "outputs": [],
   "source": [
    "import numpy as np\n",
    "N=100\n",
    "kar = np.arange(N)*2"
   ]
  },
  {
   "cell_type": "code",
   "execution_count": 2,
   "metadata": {},
   "outputs": [],
   "source": [
    "def generate_data (sig = 1e-3, A=0.1, phi_ofs=np.random.uniform(0,2*np.pi)):\n",
    "    n = np.random.normal (0, 1/np.sqrt(2),N)+1j*np.random.normal(0,1/np.sqrt(2),N)\n",
    "    s = A*np.exp(1j*(phi_ofs+kar*sig))\n",
    "    return s+n\n",
    "\n",
    "def estimate_phi (data,res=False,fds=False,array=False):\n",
    "    sum0 = np.sum(data)\n",
    "    sum1 = data*kar*1j\n",
    "    sum2 = -data*kar**2    \n",
    "    fd_arr = np.real(sum1)\n",
    "    sd_arr = np.real(sum2)\n",
    "    \n",
    "    sum1 = np.sum(sum1)\n",
    "    sum2 = np.sum(sum2)\n",
    "    FD = np.real(sum0*np.conj(sum1))\n",
    "    SD = np.real(sum2*np.conj(sum0)+sum1*np.conj(sum1))\n",
    "    \n",
    "    if fds:\n",
    "        return FD\n",
    "    elif res:\n",
    "        return FD/SD\n",
    "    elif array:\n",
    "        return fd_arr, FD, SD\n",
    "    else:\n",
    "        return SD\n",
    "\n",
    "def get_error (sig, A, phi_ofs=np.random.uniform(0,2*np.pi), Ngo=100000):\n",
    "    res = [estimate_phi(generate_data(sig, A),res=True) for i in range(Ngo)]\n",
    "    res = np.array(res)\n",
    "    mean = res.mean()\n",
    "    std = np.sqrt((res**2).mean()-sig**2)\n",
    "    pred = var_phi(sig, A, Ngo)\n",
    "    \n",
    "    return mean, std, pred"
   ]
  },
  {
   "cell_type": "code",
   "execution_count": 3,
   "metadata": {},
   "outputs": [],
   "source": [
    "def var_phi(sig, A, Ngo):\n",
    "    fds = [estimate_phi(generate_data(sig, A),fds=True) for i in range(Ngo)]\n",
    "    fds = np.array(fds)\n",
    "    var_fd = np.var(fds)\n",
    "    sd = estimate_phi(generate_data(sig, A))\n",
    "    print(sd)\n",
    "    print(var_fd)\n",
    "    \n",
    "    return var_fd/(sd**2)"
   ]
  },
  {
   "cell_type": "code",
   "execution_count": 4,
   "metadata": {},
   "outputs": [
    {
     "name": "stdout",
     "output_type": "stream",
     "text": [
      "-839214061.2216187\n",
      "41410577184.494705\n"
     ]
    },
    {
     "data": {
      "text/plain": [
       "(0.0010062454553975446, 0.0002744310334565159, 5.8798436758687287e-08)"
      ]
     },
     "execution_count": 4,
     "metadata": {},
     "output_type": "execute_result"
    }
   ],
   "source": [
    "get_error(1e-3, 5.0,0, 100000)"
   ]
  },
  {
   "cell_type": "code",
   "execution_count": 12,
   "metadata": {},
   "outputs": [],
   "source": [
    "def best_drift(Ngo,sig,A):\n",
    "    drifts = []\n",
    "    weights = []\n",
    "    weights2 = []\n",
    "    for i in range(Ngo):\n",
    "        data = generate_data(sig, A)\n",
    "        fd_arr, fd,sd = estimate_phi(data,array=True)\n",
    "        drifts.append(fd/sd)\n",
    "        weights.append(sd)\n",
    "        weights2.append(np.var(fd_arr)/(sd**2))\n",
    "    \n",
    "    drifts = np.array(drifts)\n",
    "    weights = np.array(weights)\n",
    "    weights2 = np.array(weights2)\n",
    "    return np.sum(drifts*weights)/np.sum(weights), np.sum(drifts*weights2)/np.sum(weights2)"
   ]
  },
  {
   "cell_type": "code",
   "execution_count": 15,
   "metadata": {},
   "outputs": [
    {
     "data": {
      "text/plain": [
       "(0.0010066592819741116, 0.0010016607820096122)"
      ]
     },
     "execution_count": 15,
     "metadata": {},
     "output_type": "execute_result"
    }
   ],
   "source": [
    "best_drift(100000,1e-3,5.0)"
   ]
  },
  {
   "cell_type": "code",
   "execution_count": null,
   "metadata": {},
   "outputs": [],
   "source": []
  }
 ],
 "metadata": {
  "kernelspec": {
   "display_name": "Python 3 (ipykernel)",
   "language": "python",
   "name": "python3"
  },
  "language_info": {
   "codemirror_mode": {
    "name": "ipython",
    "version": 3
   },
   "file_extension": ".py",
   "mimetype": "text/x-python",
   "name": "python",
   "nbconvert_exporter": "python",
   "pygments_lexer": "ipython3",
   "version": "3.11.9"
  }
 },
 "nbformat": 4,
 "nbformat_minor": 4
}

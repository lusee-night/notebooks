{
 "cells": [
  {
   "cell_type": "code",
   "execution_count": 1,
   "id": "d1293122",
   "metadata": {},
   "outputs": [],
   "source": [
    "import numpy as np\n",
    "import matplotlib.pyplot as plt\n",
    "from scipy.optimize import minimize_scalar\n",
    "import sys"
   ]
  },
  {
   "cell_type": "code",
   "execution_count": 2,
   "id": "081a0b24",
   "metadata": {},
   "outputs": [],
   "source": [
    "r = 1./1e8\n",
    "Ns = 1250\n",
    "Nfft = Ns//2+1\n",
    "Na = 50000000\n",
    "Nr = Na//Ns\n",
    "localized = True"
   ]
  },
  {
   "cell_type": "code",
   "execution_count": 3,
   "id": "d803c20b",
   "metadata": {},
   "outputs": [
    {
     "name": "stdout",
     "output_type": "stream",
     "text": [
      "1.0024227208435186\n"
     ]
    }
   ],
   "source": [
    "\n",
    "ftsig = np.exp(1j*np.random.uniform(0,2*np.pi,Nfft))\n",
    "if localized:\n",
    "    x = np.arange(Nfft)\n",
    "    ftsig *= np.exp(-(x-Nfft/2)**2/(2*(Nfft/20)**2))\n",
    "    ftsig /= np.sqrt(ftsig.var())\n",
    "\n",
    "sig = np.fft.irfft(ftsig)*np.sqrt(Ns)\n",
    "\n",
    "print(sig.var())"
   ]
  },
  {
   "cell_type": "code",
   "execution_count": 4,
   "id": "11d3a29c",
   "metadata": {},
   "outputs": [],
   "source": [
    "bigsig = np.hstack([sig]*Nr)"
   ]
  },
  {
   "cell_type": "code",
   "execution_count": 5,
   "id": "97f4a489",
   "metadata": {},
   "outputs": [],
   "source": [
    "Pk = np.abs(np.fft.rfft(bigsig)**2)"
   ]
  },
  {
   "cell_type": "code",
   "execution_count": 6,
   "id": "e413550e",
   "metadata": {},
   "outputs": [
    {
     "data": {
      "text/plain": [
       "Text(0, 0.5, 'Power')"
      ]
     },
     "execution_count": 6,
     "metadata": {},
     "output_type": "execute_result"
    },
    {
     "data": {
      "image/png": "[encoded data removed]",
      "text/plain": [
       "<Figure size 432x288 with 1 Axes>"
      ]
     },
     "metadata": {
      "needs_background": "light"
     },
     "output_type": "display_data"
    }
   ],
   "source": [
    "#plt.plot(np.arange(1,1000000)/1e6,Pk[1:1000000])\n",
    "plt.plot(Pk)\n",
    "plt.xlabel(\"freq [MHz]\")\n",
    "plt.ylabel(\"Power\")"
   ]
  },
  {
   "cell_type": "code",
   "execution_count": 7,
   "id": "2a38e225",
   "metadata": {},
   "outputs": [],
   "source": [
    "#let's oversample bigsig by a factor of 10\n",
    "fft = np.fft.rfft(sig)"
   ]
  },
  {
   "cell_type": "code",
   "execution_count": 8,
   "id": "5708894c",
   "metadata": {},
   "outputs": [],
   "source": [
    "N = len(fft)-1\n",
    "sigo = np.fft.irfft(np.hstack((fft,np.zeros(9*N))))*10\n",
    "bigsigo = np.hstack([sigo]*(Nr+1))"
   ]
  },
  {
   "cell_type": "code",
   "execution_count": 9,
   "id": "f2245c1f",
   "metadata": {},
   "outputs": [
    {
     "data": {
      "text/plain": [
       "Text(0, 0.5, 'amplitude')"
      ]
     },
     "execution_count": 9,
     "metadata": {},
     "output_type": "execute_result"
    },
    {
     "data": {
      "image/png": "[encoded data removed]",
      "text/plain": [
       "<Figure size 432x288 with 1 Axes>"
      ]
     },
     "metadata": {
      "needs_background": "light"
     },
     "output_type": "display_data"
    }
   ],
   "source": [
    "plt.plot(np.arange(100)/10,bigsigo[:100], label='interpolated band-limited waveform')\n",
    "plt.plot(np.arange(0,100,10)/10,bigsig[:10],'o',label='original waveform')\n",
    "plt.xlabel ('sample number')\n",
    "plt.ylabel ('amplitude')"
   ]
  },
  {
   "cell_type": "code",
   "execution_count": null,
   "id": "a6a2b37d",
   "metadata": {},
   "outputs": [],
   "source": []
  },
  {
   "cell_type": "code",
   "execution_count": 10,
   "id": "6e1bc134",
   "metadata": {},
   "outputs": [],
   "source": [
    "def gen_rec (drift, noise, L=None):\n",
    "    if L is None:\n",
    "        L+Nr*Ns\n",
    "    bigsigdrift = bigsigo[(np.arange(0,10*L,10)*(1+drift*1e-6)+0.5).astype(int)]\n",
    "    return (bigsigdrift+np.random.normal(0,noise,L)).reshape((-1,1000000//Ns,Ns)).mean(axis=1)"
   ]
  },
  {
   "cell_type": "code",
   "execution_count": 11,
   "id": "d5e77c63",
   "metadata": {},
   "outputs": [],
   "source": [
    "def shift (d,i):\n",
    "    if (i==0):\n",
    "        return d\n",
    "    if (i==1):\n",
    "        return np.hstack((d[1:],d[0]))\n",
    "    if (i==-1):\n",
    "        return np.hstack((d[-1],d[:-1]))\n",
    "\n",
    "def coadd_drift (data, force_zero=False):\n",
    "    cdata=data[0,:]\n",
    "    drift = [0] \n",
    "    for mdata in data[1:]:\n",
    "        pp = np.dot(shift(cdata,1),mdata)\n",
    "        p0 = np.dot(cdata,mdata)\n",
    "        pm = np.dot(shift(cdata,-1),mdata)\n",
    "        if ((p0>pp) and (p0>pm)) or force_zero:\n",
    "            drift.append(drift[-1])\n",
    "            cdata = mdata+cdata\n",
    "        elif (pm>pp) and (pm>p0):\n",
    "            drift.append(drift[-1]-1)\n",
    "            cdata = shift(cdata,-1)+mdata\n",
    "        elif (pp>pm) and (pp>p0):\n",
    "            drift.append(drift[-1]+1)\n",
    "            cdata = shift(cdata,+1)+mdata\n",
    "        else:\n",
    "            print ('shit')\n",
    "            stop()\n",
    "    cdata/=len(data)\n",
    "    sig = np.fft.rfft(cdata)*np.conj(ftsig)\n",
    "    val = 1e100\n",
    "    print ('getting drift')\n",
    "    for phi in np.linspace(-0.6,0.6,60000):\n",
    "        sigp = sig*np.exp(1j*phi*np.arange(len(sig)))\n",
    "        loss = ((np.imag(sigp))**2)[1:-1].sum(axis=0)\n",
    "        #print (phi,loss)\n",
    "        if loss<val:\n",
    "            best_phi = phi\n",
    "            best_sig = sigp\n",
    "            val=loss\n",
    "            \n",
    "    print (best_phi)\n",
    "    sigr = np.real(best_sig)[1:-1].reshape((-1,26)).mean(axis=1)\n",
    "    return drift,sigr,sig\n",
    "        \n",
    "        "
   ]
  },
  {
   "cell_type": "code",
   "execution_count": 12,
   "id": "d228d925",
   "metadata": {},
   "outputs": [
    {
     "name": "stdout",
     "output_type": "stream",
     "text": [
      "10 3.1622776601683795\n",
      "getting drift\n",
      "-1.0000166669410504e-05\n",
      "20 10.0\n",
      "getting drift\n",
      "1.0000166669410504e-05\n",
      "30 31.622776601683793\n",
      "getting drift\n",
      "-1.0000166669410504e-05\n",
      "40 100.0\n",
      "getting drift\n",
      "-1.0000166669410504e-05\n"
     ]
    }
   ],
   "source": [
    "res = []\n",
    "for dB in [10,20,30,40]:\n",
    "    noiserms = np.sqrt(10**(dB/10))\n",
    "    print (dB,noiserms)\n",
    "    a,b,x=coadd_drift(gen_rec(+0.0,noiserms,Nr*Ns))\n",
    "    res.append(b)"
   ]
  },
  {
   "cell_type": "code",
   "execution_count": 13,
   "id": "ad4697f1",
   "metadata": {},
   "outputs": [],
   "source": [
    "fr=np.arange(1,25)*50/24"
   ]
  },
  {
   "cell_type": "code",
   "execution_count": null,
   "id": "a144dbef",
   "metadata": {},
   "outputs": [],
   "source": [
    "for dB,r in zip([10,20,30,40],res):\n",
    "    plt.plot(fr,r,label = f'{dB}dB below S+N')\n",
    "    plt.ylim(30,45)\n",
    "plt.xlabel('freq [MHz]')\n",
    "plt.ylabel('Recovered response')\n",
    "plt.legend()"
   ]
  },
  {
   "cell_type": "code",
   "execution_count": null,
   "id": "2d757c80",
   "metadata": {},
   "outputs": [],
   "source": [
    "a,b,x=coadd_drift(gen_rec(+0.0,10,Nr*Ns))\n",
    "plt.plot(fr,b,label = 'no clock drift')\n",
    "a,b,x=coadd_drift(gen_rec(+0.2,10,Nr*Ns),force_zero=True)\n",
    "plt.plot(fr,b,label = '+0.2ppm drift')\n",
    "a,b,x=coadd_drift(gen_rec(-1.0,10,Nr*Ns),force_zero=True)\n",
    "plt.plot(fr,b,label = '-1.0ppm drift')\n",
    "\n",
    "plt.xlabel('freq [MHz]')\n",
    "plt.ylabel('Recovered response')\n",
    "plt.ylim(-10,45)\n",
    "plt.legend()"
   ]
  },
  {
   "cell_type": "code",
   "execution_count": null,
   "id": "60ba7d34",
   "metadata": {},
   "outputs": [],
   "source": [
    "fig,(ax1,ax2) = plt.subplots(2,1,figsize=(8,10))\n",
    "for drift in [0,0.2,0.4,0.6,0.8,1,1.5]:\n",
    "    a,b,x=coadd_drift(gen_rec(+drift,10,Nr*Ns)) \n",
    "    ax1.plot(fr,b,label = f\"+{drift}ppm drift\" if drift!=0 else \"no drift\")\n",
    "    ax2.plot(a)\n",
    "ax1.set_xlabel('freq [MHz]')\n",
    "ax1.set_ylabel('Recovered response')\n",
    "ax1.set_ylim(-10,45)\n",
    "ax1.legend()\n",
    "ax2.set_xlabel('integration period')\n",
    "ax2.set_ylabel('overal drift [samples]')\n",
    "                    \n",
    "            "
   ]
  },
  {
   "cell_type": "code",
   "execution_count": 14,
   "id": "fdfed026",
   "metadata": {},
   "outputs": [
    {
     "name": "stdout",
     "output_type": "stream",
     "text": [
      "getting drift\n",
      "-0.05177086284771415\n",
      "getting drift\n",
      "-0.05177086284771415\n",
      "getting drift\n",
      "-0.04777079617993629\n",
      "getting drift\n",
      "-0.0513708561809364\n",
      "getting drift\n",
      "-0.04801080018000303\n"
     ]
    },
    {
     "data": {
      "text/plain": [
       "Text(0, 0.5, 'overal drift [samples]')"
      ]
     },
     "execution_count": 14,
     "metadata": {},
     "output_type": "execute_result"
    },
    {
     "data": {
      "image/png": "[encoded data removed]",
      "text/plain": [
       "<Figure size 576x720 with 2 Axes>"
      ]
     },
     "metadata": {
      "needs_background": "light"
     },
     "output_type": "display_data"
    }
   ],
   "source": [
    "fig,(ax1,ax2) = plt.subplots(2,1,figsize=(8,10))\n",
    "for dB in [10,20,30,40,50]:\n",
    "    noiserms = np.sqrt(10**(dB/10))\n",
    "    a,b,x=coadd_drift(gen_rec(+0.2,noiserms,Nr*Ns)) \n",
    "    ax1.plot(fr,b,label = f'{dB}dB below S+N')\n",
    "    ax2.plot(a)\n",
    "ax1.set_xlabel('freq [MHz]')\n",
    "ax1.set_ylabel('Recovered response')\n",
    "#ax1.set_ylim(-10,45)\n",
    "ax1.legend()\n",
    "ax2.set_xlabel('integration period')\n",
    "ax2.set_ylabel('overal drift [samples]')\n"
   ]
  },
  {
   "cell_type": "code",
   "execution_count": null,
   "id": "d9ef9d6b",
   "metadata": {},
   "outputs": [],
   "source": [
    "b.shape"
   ]
  },
  {
   "cell_type": "code",
   "execution_count": null,
   "id": "9763e70f",
   "metadata": {},
   "outputs": [],
   "source": [
    "xp = x*np.exp(-0.5*1j*np.arange(len(x)))\n",
    "plt.plot(np.real(xp))\n",
    "plt.plot(np.imag(xp))"
   ]
  },
  {
   "cell_type": "code",
   "execution_count": null,
   "id": "1a300765",
   "metadata": {},
   "outputs": [],
   "source": [
    "(np.imag(xp)**2).sum()"
   ]
  },
  {
   "cell_type": "code",
   "execution_count": null,
   "id": "9489ed31",
   "metadata": {},
   "outputs": [],
   "source": [
    "fx=np.linspace(0,50,1000)\n",
    "lam = 3e8/(fx*1e6)\n",
    "L=2\n",
    "a=0.01\n",
    "plt.plot(fx, 20*np.pi**2/(lam/L)**2,label='Re Z')\n",
    "plt.plot(fx, 120*lam/(np.pi*L)*(np.log(L/(2*a))-1),label='Im z')\n",
    "plt.semilogy()\n",
    "plt.xlabel('freq [MHz]')\n",
    "plt.ylabel('Impedance [Ohm]')\n"
   ]
  },
  {
   "cell_type": "code",
   "execution_count": null,
   "id": "d6d1f1cc",
   "metadata": {},
   "outputs": [],
   "source": [
    "np.log(L/(2*a))-1"
   ]
  },
  {
   "cell_type": "code",
   "execution_count": null,
   "id": "a61f72e7",
   "metadata": {},
   "outputs": [],
   "source": []
  },
  {
   "cell_type": "code",
   "execution_count": null,
   "id": "f75e74d0",
   "metadata": {},
   "outputs": [],
   "source": [
    "plt.plot(np.arange(1,1000000)/1e6,Pk[1:1000000],label='X pol')\n",
    "plt.plot(np.arange(1,1000000)/1e6*0.88,Pk[1:1000000], label = 'Y pol')\n",
    "plt.legend(loc='upper left')\n",
    "plt.xlabel(\"freq [MHz]\")\n",
    "plt.ylabel(\"Power\")"
   ]
  },
  {
   "cell_type": "code",
   "execution_count": null,
   "id": "52d7562c",
   "metadata": {},
   "outputs": [],
   "source": []
  }
 ],
 "metadata": {
  "kernelspec": {
   "display_name": "Python 3 (ipykernel)",
   "language": "python",
   "name": "python3"
  },
  "language_info": {
   "codemirror_mode": {
    "name": "ipython",
    "version": 3
   },
   "file_extension": ".py",
   "mimetype": "text/x-python",
   "name": "python",
   "nbconvert_exporter": "python",
   "pygments_lexer": "ipython3",
   "version": "3.10.1"
  }
 },
 "nbformat": 4,
 "nbformat_minor": 5
}
